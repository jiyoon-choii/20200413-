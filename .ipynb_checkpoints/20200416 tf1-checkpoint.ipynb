{
 "cells": [
  {
   "cell_type": "code",
   "execution_count": 4,
   "metadata": {},
   "outputs": [
    {
     "data": {
      "text/plain": [
       "<module 'tensorflow_core._api.v2.version' from 'C:\\\\Users\\\\admin\\\\Anaconda3\\\\lib\\\\site-packages\\\\tensorflow_core\\\\_api\\\\v2\\\\version\\\\__init__.py'>"
      ]
     },
     "execution_count": 4,
     "metadata": {},
     "output_type": "execute_result"
    }
   ],
   "source": [
    "import tensorflow as tf\n",
    "\n",
    "tf.version"
   ]
  },
  {
   "cell_type": "code",
   "execution_count": 5,
   "metadata": {},
   "outputs": [
    {
     "name": "stderr",
     "output_type": "stream",
     "text": [
      "Using TensorFlow backend.\n"
     ]
    }
   ],
   "source": [
    "from keras import optimizers\n",
    "from keras.models import Sequential\n",
    "from keras.layers import Dense \n",
    "import numpy as np \n",
    "import matplotlib.pyplot as plt \n",
    "%matplotlib inline "
   ]
  },
  {
   "cell_type": "code",
   "execution_count": 9,
   "metadata": {},
   "outputs": [],
   "source": [
    "X = np.linspace(0, 10, 10)\n",
    "Y = X + np.random.randn(*X.shape)"
   ]
  },
  {
   "cell_type": "markdown",
   "metadata": {},
   "source": [
    "# seed \n",
    "- 무작위와 관련된 모든 알고리즘은 사실 무작위가 아니라 시자가 숫자를 정해 주면 그 다음에는 정해진 알고리즘에 의해 마치 난수처럼 보이는 수열을 생성한다. \n",
    "- 같은 알고리즘을 여러번 실행하더라도 다른 숫자가 나오도록 시작 숫자를 현재 시간 등을 이용해서 매번 바꿔줄 수 있고, 이를 시드(seed)라고 한다. \n",
    "\n",
    "### numpy 난수 메소드 \n",
    "np.random.seed : seed를 통한 난수 생성 \n",
    "np.random.rand : 0부터 1 사이의 균일 분포에서 난수 생성 \n",
    "np.random.randn : 가우시안 표준 정규분포에서 난수 생성 \n",
    "np.random.randint : 균일 분포의 정수 난수 생성 \n",
    "np.random.shuffle : 기존의 데이터의 순서 바꾸기 \n",
    "np.random.choice : 기존의 데이터에서 sampling \n",
    "np.unique : 데이터에서 중복된 값을 제거하고 중복되지 않는 값의 리스트 출력 \n",
    "np.bincount : 발생하지 않는 사건에 대해서도 카운트를 해준다 "
   ]
  },
  {
   "cell_type": "code",
   "execution_count": null,
   "metadata": {},
   "outputs": [],
   "source": []
  }
 ],
 "metadata": {
  "kernelspec": {
   "display_name": "Python 3",
   "language": "python",
   "name": "python3"
  },
  "language_info": {
   "codemirror_mode": {
    "name": "ipython",
    "version": 3
   },
   "file_extension": ".py",
   "mimetype": "text/x-python",
   "name": "python",
   "nbconvert_exporter": "python",
   "pygments_lexer": "ipython3",
   "version": "3.7.4"
  }
 },
 "nbformat": 4,
 "nbformat_minor": 2
}
