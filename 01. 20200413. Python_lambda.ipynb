{
 "cells": [
  {
   "cell_type": "markdown",
   "metadata": {},
   "source": [
    "## 람다식의 기초\n",
    "### 익명 함수 만들기"
   ]
  },
  {
   "cell_type": "markdown",
   "metadata": {},
   "source": [
    "### 기본 함수 정의 "
   ]
  },
  {
   "cell_type": "code",
   "execution_count": 1,
   "metadata": {},
   "outputs": [],
   "source": [
    "# 예: x^2을 출력하는 함수 pow1(x)\n",
    "def pow1(x) : \n",
    "    return x ** 2"
   ]
  },
  {
   "cell_type": "markdown",
   "metadata": {},
   "source": [
    "## 익명 함수를 사용하여 코드를 간단히 정의 \n",
    "- anonymous function \n",
    "- lambda (람다식) \n",
    "람다식 구조\n",
    "lambda 인수 : 반환 값 "
   ]
  },
  {
   "cell_type": "code",
   "execution_count": 2,
   "metadata": {},
   "outputs": [],
   "source": [
    "# pow1(x) 와 동일한 람다식 \n",
    "pow2 = lambda x : x ** 2 "
   ]
  },
  {
   "cell_type": "code",
   "execution_count": 3,
   "metadata": {},
   "outputs": [
    {
     "data": {
      "text/plain": [
       "100"
      ]
     },
     "execution_count": 3,
     "metadata": {},
     "output_type": "execute_result"
    }
   ],
   "source": [
    "pow1(10)\n",
    "pow2(10)"
   ]
  },
  {
   "cell_type": "markdown",
   "metadata": {},
   "source": [
    "### 인수 a에 대한 다음 함수를 작성 a=4일 때의 반환값 출력 \n",
    "- def 이용하여 2a^2 \n",
    "- lambda 이용 2a^2 - 3a + 1 "
   ]
  },
  {
   "cell_type": "code",
   "execution_count": 34,
   "metadata": {},
   "outputs": [
    {
     "name": "stdout",
     "output_type": "stream",
     "text": [
      "21\n",
      "21\n"
     ]
    }
   ],
   "source": [
    "a = 4 \n",
    "def func1(x) :\n",
    "    return 2 * x**2 - 3*x + 1 \n",
    "\n",
    "func2 = lambda x : 2 * x**2 - 3*x + 1 \n",
    "\n",
    "print(func1(a))\n",
    "print(func2(a))"
   ]
  },
  {
   "cell_type": "code",
   "execution_count": 5,
   "metadata": {},
   "outputs": [
    {
     "name": "stdout",
     "output_type": "stream",
     "text": [
      "3\n"
     ]
    }
   ],
   "source": [
    "add1 = lambda x, y : x+y\n",
    "print(add1(1,2))"
   ]
  },
  {
   "cell_type": "markdown",
   "metadata": {},
   "source": [
    "### 람다식은 변수에 대입 사용하지만, 일회성 함수로 많이 사용 "
   ]
  },
  {
   "cell_type": "code",
   "execution_count": 7,
   "metadata": {},
   "outputs": [
    {
     "name": "stdout",
     "output_type": "stream",
     "text": [
      "8\n"
     ]
    }
   ],
   "source": [
    "print((lambda x, y : x + y)(3,5))"
   ]
  },
  {
   "cell_type": "markdown",
   "metadata": {},
   "source": [
    "## 인수(x,y)에 대한 함수를 작성하고 (x,y,z) = (5,6,2)일 때의 반환값을 각각 출력 \n",
    "- def를 이용하여 xy+z을 출력하는 함수 func3\n",
    "- lambda 를 이용하여 xy+z 를 출력하는 함수 func4 "
   ]
  },
  {
   "cell_type": "code",
   "execution_count": 11,
   "metadata": {},
   "outputs": [
    {
     "name": "stdout",
     "output_type": "stream",
     "text": [
      "32\n",
      "32\n"
     ]
    }
   ],
   "source": [
    "# 대입할 인수 x,y,z 선언\n",
    "x = 5\n",
    "y = 6\n",
    "z = 2 \n",
    "\n",
    "# def 를 이용한 함수 \n",
    "def func3(x,y,z) :\n",
    "    return x*y+z \n",
    "\n",
    "# lambda를 이용한 함수 \n",
    "func4 = lambda x,y,z : x*y + z \n",
    "\n",
    "print(func3(x,y,z))\n",
    "print(func4(x,y,z))"
   ]
  },
  {
   "cell_type": "markdown",
   "metadata": {},
   "source": [
    "## lambda 는 def 로 정의한 함수와 달리 반환값 부분에 식만 올 수 있다 "
   ]
  },
  {
   "cell_type": "code",
   "execution_count": 12,
   "metadata": {},
   "outputs": [],
   "source": [
    "def say_hello() : \n",
    "    print(\"hello\")"
   ]
  },
  {
   "cell_type": "code",
   "execution_count": 13,
   "metadata": {},
   "outputs": [
    {
     "name": "stdout",
     "output_type": "stream",
     "text": [
      "<function <lambda> at 0x00000200CA703798>\n"
     ]
    }
   ],
   "source": [
    "print(lambda x : \"hello\")"
   ]
  },
  {
   "cell_type": "markdown",
   "metadata": {},
   "source": [
    "### if 조건문에서 삼항 연산자를 이용"
   ]
  },
  {
   "cell_type": "code",
   "execution_count": 14,
   "metadata": {},
   "outputs": [],
   "source": [
    "def lower_threel(x) : \n",
    "    if x < 3 : \n",
    "        return x *2\n",
    "    else : \n",
    "        return x/3 + 5"
   ]
  },
  {
   "cell_type": "code",
   "execution_count": 15,
   "metadata": {},
   "outputs": [],
   "source": [
    "lower_threel = lambda x : x * 2 if x < 3 else x/3 + 5 "
   ]
  },
  {
   "cell_type": "markdown",
   "metadata": {},
   "source": [
    "### lambda 를 이용하여 함수를 작성하고 인수 a에 대한 결과 출력 \n",
    "- a가 10 이상 30 미만이면 a^2 - 40a의 계산값을, 이외에는 50을 출력 "
   ]
  },
  {
   "cell_type": "code",
   "execution_count": 18,
   "metadata": {},
   "outputs": [
    {
     "name": "stdout",
     "output_type": "stream",
     "text": [
      "-351\n",
      "50\n"
     ]
    }
   ],
   "source": [
    "# 대입 할 인수 \n",
    "a1 = 13 \n",
    "a2 = 32 \n",
    "\n",
    "# lambda 를 이용한 fucn5 \n",
    "func5 = lambda x : x** 2 - 40 * x if x >=10 and x < 30 else 50  \n",
    "\n",
    "\n",
    "# 반환값 출력 \n",
    "print(func5(a1))\n",
    "print(func5(a2))"
   ]
  },
  {
   "cell_type": "markdown",
   "metadata": {},
   "source": [
    "## 문자열 분할 \n",
    "- split \n",
    "- re "
   ]
  },
  {
   "cell_type": "code",
   "execution_count": 25,
   "metadata": {},
   "outputs": [
    {
     "data": {
      "text/plain": [
       "['this', 'is', 'a', 'test', 'sentence.']"
      ]
     },
     "execution_count": 25,
     "metadata": {},
     "output_type": "execute_result"
    }
   ],
   "source": [
    "# 나눌 문자열 \n",
    "test_sentence = \"this is a test sentence.\"\n",
    "\n",
    "# split 으로 리스트를 만듦 \n",
    "test_sentence.split(\" \")"
   ]
  },
  {
   "cell_type": "markdown",
   "metadata": {},
   "source": [
    "### \"My name is OOO\" 문자열 self_data 에서 \"OOO\" 부분만 추출 "
   ]
  },
  {
   "cell_type": "code",
   "execution_count": 24,
   "metadata": {},
   "outputs": [
    {
     "name": "stdout",
     "output_type": "stream",
     "text": [
      "baniota\n"
     ]
    }
   ],
   "source": [
    "# 자기소개 문자열 \n",
    "self_data = \"My name is baniota\"\n",
    "\n",
    "# 분리해서 리스트 \n",
    "word_list = self_data.split(\" \")\n",
    "\n",
    "# \"baniota\"을 출력 \n",
    "print(word_list[len(word_list)-1]) # [3] 으로 했을 땐 배열의 길이가 달라졌을때 리 인덱싱 해줘야 함 "
   ]
  },
  {
   "cell_type": "markdown",
   "metadata": {},
   "source": [
    "### 여러 기호의 구분자로 문자열 분할 "
   ]
  },
  {
   "cell_type": "code",
   "execution_count": 26,
   "metadata": {},
   "outputs": [
    {
     "data": {
      "text/plain": [
       "['this', '', 'is', 'a', '', 'test', '', 'sentence', '']"
      ]
     },
     "execution_count": 26,
     "metadata": {},
     "output_type": "execute_result"
    }
   ],
   "source": [
    "import re \n",
    "test_sentence = \"this, is a. test, sentence.\"\n",
    "# \",\"와 \" \" 그리고 \".\" 으로 구분자 지정 필요 \n",
    "re.split(\"[, .]\", test_sentence)"
   ]
  },
  {
   "cell_type": "markdown",
   "metadata": {},
   "source": [
    "## \"년/월/일 시:분\" 구조를 갖는 문자열 time_data 를 \"월\"과 \"시\"로 분할해서 출력 "
   ]
  },
  {
   "cell_type": "code",
   "execution_count": 27,
   "metadata": {},
   "outputs": [
    {
     "name": "stdout",
     "output_type": "stream",
     "text": [
      "4\n",
      "22\n"
     ]
    }
   ],
   "source": [
    "import re \n",
    "time_data = \"2020/4/1_22:15\"\n",
    "time_list = re.split(\"[/_:]\", time_data)\n",
    "\n",
    "# \"월\"과 \"시\"를 출력 \n",
    "print(time_list[1])\n",
    "print(time_list[3])"
   ]
  },
  {
   "cell_type": "markdown",
   "metadata": {},
   "source": [
    "## 리스트 내포 "
   ]
  },
  {
   "cell_type": "code",
   "execution_count": 37,
   "metadata": {},
   "outputs": [
    {
     "name": "stdout",
     "output_type": "stream",
     "text": [
      "[1, 2, 3, 4, 5]\n"
     ]
    }
   ],
   "source": [
    "# 리스트 내포로 각 요소의 절대값을 취하시오 \n",
    "a = [1, -2, 3, -4, 5]\n",
    "# def abs_fun(x) : \n",
    "#     for i in a : \n",
    "#         abs(a[i]) # abs() : 절대값 반환 \n",
    "print([abs(x) for x in a])"
   ]
  },
  {
   "cell_type": "code",
   "execution_count": 36,
   "metadata": {},
   "outputs": [
    {
     "name": "stdout",
     "output_type": "stream",
     "text": [
      "[1, 2, 3, 4, 5]\n"
     ]
    }
   ],
   "source": [
    "# map 으로 리스트 \n",
    "a = [1, -2, 3, -4, 5]\n",
    "print(list(map(abs, a)))"
   ]
  },
  {
   "cell_type": "code",
   "execution_count": 39,
   "metadata": {},
   "outputs": [
    {
     "name": "stdout",
     "output_type": "stream",
     "text": [
      "[[0, 30], [2, 35], [3, 0], [1, 14], [0, 11], [1, 0], [1, 22]]\n"
     ]
    }
   ],
   "source": [
    "# 분 \n",
    "minute_data = [30, 155, 180, 74, 11, 60, 82]\n",
    "\n",
    "# 시, 분으로 계산 lambda 식 \n",
    "h_m_split = lambda x : [x // 60, x % 60] \n",
    "\n",
    "# 리스트 내포를 이용한 배열 작성  \n",
    "h_m_data = [h_m_split(x) for x in minute_data]\n",
    "\n",
    "print(h_m_data)"
   ]
  },
  {
   "cell_type": "markdown",
   "metadata": {},
   "source": []
  },
  {
   "cell_type": "markdown",
   "metadata": {},
   "source": []
  },
  {
   "cell_type": "code",
   "execution_count": null,
   "metadata": {},
   "outputs": [],
   "source": []
  }
 ],
 "metadata": {
  "kernelspec": {
   "display_name": "Python 3",
   "language": "python",
   "name": "python3"
  },
  "language_info": {
   "codemirror_mode": {
    "name": "ipython",
    "version": 3
   },
   "file_extension": ".py",
   "mimetype": "text/x-python",
   "name": "python",
   "nbconvert_exporter": "python",
   "pygments_lexer": "ipython3",
   "version": "3.7.4"
  }
 },
 "nbformat": 4,
 "nbformat_minor": 2
}
