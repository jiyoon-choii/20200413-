{
 "cells": [
  {
   "cell_type": "markdown",
   "metadata": {},
   "source": [
    "## 로지스틱 회귀 하이퍼 파라미터 튜닝 "
   ]
  },
  {
   "cell_type": "markdown",
   "metadata": {},
   "source": [
    "### 로지스틱 회귀 파라미터 C \n",
    "C 값이 클수록 모델은 지도 데이터를 완전히 분류할 수 있는 식별 경계선을 학습 \n",
    "scikit-learn 로지스틱 회귀 C 기본값 1.0이다.\n",
    "\n",
    "### 로지스틱 회귀 파라미터 penalty \n",
    "penalty는 모델의 복잡성에 대한 패널티 L1, L2 \n",
    "- L1 : 데이터의 특징량을 중심으로 식별 경계선의 일반화를 도모 \n",
    "- L2 : 데이터 전체의 가중치를 줄임으로써 식별 경계선의 일반화를 도모 \n",
    "\n",
    "### 로지스틱 회귀 파라미터 mult_class \n",
    "mult_class 는 다항 분류에서 모델의 동작을 결정 \n",
    "- ovr : 클래스에 대해 '속하는/속하지 않는' 두 값으로 답하는 문제에 적합 \n",
    "- multnormail : 각 클래스로 분류될 확률도 고려되어 '속하는/속하지 않는' 그리고 '속할 가능성이 얼마인가'를 다루는 문제에 적합\n",
    "\n",
    "### 로지스틱 회귀 파라미터 random_state \n",
    "모델은 학습 시 데이터를 임의의 순서로 처리해 나감 \n",
    "rnadom_state 는 그 순서를 제어함 \n",
    "로지스틱 회귀 모델은 처리 순서 때문에 경계선이 변경되는 경우가 있다 \n",
    "random_state 값을 고정시켜 동일한 학습 결과를 보전할 경우, "
   ]
  },
  {
   "cell_type": "code",
   "execution_count": 6,
   "metadata": {},
   "outputs": [],
   "source": [
    "import matplotlib.pyplot as plt\n",
    "from sklearn.linear_model import LogisticRegression \n",
    "from sklearn.datasets import make_classification \n",
    "from sklearn import preprocessing \n",
    "from sklearn.model_selection import train_test_split \n",
    "%matplotlib inline "
   ]
  },
  {
   "cell_type": "code",
   "execution_count": 10,
   "metadata": {},
   "outputs": [],
   "source": [
    "# 데이터 생성 \n",
    "X, y = make_classification(n_samples=1250, n_features=4, n_informative=2, n_redundant=2, random_state=42)\n",
    "train_X, test_X, train_y, test_y = train_test_split(X, y, random_state=42)"
   ]
  },
  {
   "cell_type": "code",
   "execution_count": 12,
   "metadata": {},
   "outputs": [
    {
     "data": {
      "text/plain": [
       "[1e-05, 0.0001, 0.001, 0.01, 0.1, 1, 10, 100, 1000, 10000]"
      ]
     },
     "execution_count": 12,
     "metadata": {},
     "output_type": "execute_result"
    }
   ],
   "source": [
    "# C 값의 범위 설정 (0.00001 ~ 10000)\n",
    "C_list = [10**i for i in range(-5, 5)]\n",
    "C_list "
   ]
  },
  {
   "cell_type": "code",
   "execution_count": 13,
   "metadata": {},
   "outputs": [],
   "source": [
    "# 그래프 작성용 빈 리스트 선언 \n",
    "train_accuracy = []\n",
    "test_accuracy = []"
   ]
  },
  {
   "cell_type": "code",
   "execution_count": 14,
   "metadata": {},
   "outputs": [
    {
     "name": "stderr",
     "output_type": "stream",
     "text": [
      "C:\\Users\\admin\\Anaconda3\\lib\\site-packages\\sklearn\\linear_model\\logistic.py:432: FutureWarning: Default solver will be changed to 'lbfgs' in 0.22. Specify a solver to silence this warning.\n",
      "  FutureWarning)\n",
      "C:\\Users\\admin\\Anaconda3\\lib\\site-packages\\sklearn\\linear_model\\logistic.py:432: FutureWarning: Default solver will be changed to 'lbfgs' in 0.22. Specify a solver to silence this warning.\n",
      "  FutureWarning)\n",
      "C:\\Users\\admin\\Anaconda3\\lib\\site-packages\\sklearn\\linear_model\\logistic.py:432: FutureWarning: Default solver will be changed to 'lbfgs' in 0.22. Specify a solver to silence this warning.\n",
      "  FutureWarning)\n",
      "C:\\Users\\admin\\Anaconda3\\lib\\site-packages\\sklearn\\linear_model\\logistic.py:432: FutureWarning: Default solver will be changed to 'lbfgs' in 0.22. Specify a solver to silence this warning.\n",
      "  FutureWarning)\n",
      "C:\\Users\\admin\\Anaconda3\\lib\\site-packages\\sklearn\\linear_model\\logistic.py:432: FutureWarning: Default solver will be changed to 'lbfgs' in 0.22. Specify a solver to silence this warning.\n",
      "  FutureWarning)\n",
      "C:\\Users\\admin\\Anaconda3\\lib\\site-packages\\sklearn\\linear_model\\logistic.py:432: FutureWarning: Default solver will be changed to 'lbfgs' in 0.22. Specify a solver to silence this warning.\n",
      "  FutureWarning)\n",
      "C:\\Users\\admin\\Anaconda3\\lib\\site-packages\\sklearn\\linear_model\\logistic.py:432: FutureWarning: Default solver will be changed to 'lbfgs' in 0.22. Specify a solver to silence this warning.\n",
      "  FutureWarning)\n",
      "C:\\Users\\admin\\Anaconda3\\lib\\site-packages\\sklearn\\linear_model\\logistic.py:432: FutureWarning: Default solver will be changed to 'lbfgs' in 0.22. Specify a solver to silence this warning.\n",
      "  FutureWarning)\n",
      "C:\\Users\\admin\\Anaconda3\\lib\\site-packages\\sklearn\\linear_model\\logistic.py:432: FutureWarning: Default solver will be changed to 'lbfgs' in 0.22. Specify a solver to silence this warning.\n",
      "  FutureWarning)\n",
      "C:\\Users\\admin\\Anaconda3\\lib\\site-packages\\sklearn\\linear_model\\logistic.py:432: FutureWarning: Default solver will be changed to 'lbfgs' in 0.22. Specify a solver to silence this warning.\n",
      "  FutureWarning)\n"
     ]
    }
   ],
   "source": [
    "for c in C_list : \n",
    "    model = LogisticRegression(C=c, random_state=42)\n",
    "    model.fit(train_X, train_y)\n",
    "    \n",
    "    train_accuracy.append(model.score(train_X, train_y))\n",
    "    test_accuracy.append(model.score(test_X, test_y))"
   ]
  },
  {
   "cell_type": "code",
   "execution_count": 20,
   "metadata": {},
   "outputs": [
    {
     "data": {
      "text/plain": [
       "[0.928495197438634,\n",
       " 0.928495197438634,\n",
       " 0.928495197438634,\n",
       " 0.9263607257203842,\n",
       " 0.9306296691568837,\n",
       " 0.9306296691568837,\n",
       " 0.9306296691568837,\n",
       " 0.9306296691568837,\n",
       " 0.9306296691568837,\n",
       " 0.9306296691568837]"
      ]
     },
     "execution_count": 20,
     "metadata": {},
     "output_type": "execute_result"
    }
   ],
   "source": [
    "train_accuracy "
   ]
  },
  {
   "cell_type": "code",
   "execution_count": 16,
   "metadata": {},
   "outputs": [
    {
     "data": {
      "text/plain": [
       "[0.9265175718849841,\n",
       " 0.9265175718849841,\n",
       " 0.9297124600638977,\n",
       " 0.9265175718849841,\n",
       " 0.9265175718849841,\n",
       " 0.9265175718849841,\n",
       " 0.9265175718849841,\n",
       " 0.9265175718849841,\n",
       " 0.9265175718849841,\n",
       " 0.9265175718849841]"
      ]
     },
     "execution_count": 16,
     "metadata": {},
     "output_type": "execute_result"
    }
   ],
   "source": [
    "test_accuracy "
   ]
  },
  {
   "cell_type": "code",
   "execution_count": 19,
   "metadata": {},
   "outputs": [
    {
     "data": {
      "image/png": "[encoded data removed]",
      "text/plain": [
       "<Figure size 432x288 with 1 Axes>"
      ]
     },
     "metadata": {
      "needs_background": "light"
     },
     "output_type": "display_data"
    }
   ],
   "source": [
    "# 정확도 시각화 \n",
    "# semilogx() 는 x 의 스케일을 10의 x 승 스케일로 변경 \n",
    "plt.semilogx(C_list, train_accuracy, label='accuracy of train_data')\n",
    "plt.semilogx(C_list, test_accuracy, label='accuracy of test_data')\n",
    "plt.title('accuracy by changing C')\n",
    "plt.xlabel('C')\n",
    "plt.ylabel('accuracy')\n",
    "plt.legend()\n",
    "plt.show()"
   ]
  },
  {
   "cell_type": "markdown",
   "metadata": {},
   "source": [
    "## "
   ]
  },
  {
   "cell_type": "code",
   "execution_count": null,
   "metadata": {},
   "outputs": [],
   "source": []
  }
 ],
 "metadata": {
  "kernelspec": {
   "display_name": "Python 3",
   "language": "python",
   "name": "python3"
  },
  "language_info": {
   "codemirror_mode": {
    "name": "ipython",
    "version": 3
   },
   "file_extension": ".py",
   "mimetype": "text/x-python",
   "name": "python",
   "nbconvert_exporter": "python",
   "pygments_lexer": "ipython3",
   "version": "3.7.4"
  }
 },
 "nbformat": 4,
 "nbformat_minor": 2
}
